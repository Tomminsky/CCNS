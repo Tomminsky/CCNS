{
 "cells": [
  {
   "cell_type": "markdown",
   "metadata": {},
   "source": [
    "# Computational Cognitive Neuroscience Practical Assignment 5\n",
    "## Q Learning\n",
    "### Tommy Clausner (s4836219) and Steven Smits (s4237263)"
   ]
  },
  {
   "cell_type": "code",
   "execution_count": 20,
   "metadata": {
    "collapsed": true
   },
   "outputs": [],
   "source": [
    "import matplotlib.pyplot as plt\n",
    "import numpy as np\n",
    "import chainer\n",
    "from chainer import optimizers\n",
    "import chainer.functions as F\n",
    "import chainer.links as L"
   ]
  },
  {
   "cell_type": "markdown",
   "metadata": {},
   "source": [
    "## Environment provided by assigment is defined"
   ]
  },
  {
   "cell_type": "code",
   "execution_count": 21,
   "metadata": {
    "collapsed": true
   },
   "outputs": [],
   "source": [
    "class EvidenceEnv(object):\n",
    "    \"\"\"\n",
    "    Very simple task which only requires evaluating present evidence and does not require evidence integration.\n",
    "    The actor gets a reward when it correctly decides on the ground truth. Ground truth 0/1 determines probabilistically\n",
    "    the number of 0s or 1s as observations\n",
    "    \"\"\"\n",
    "\n",
    "    def __init__(self, n=1, p=0.8):\n",
    "        \"\"\"\n",
    "\n",
    "        Args:\n",
    "            n: number of inputs (pieces of evidence)\n",
    "            p: probability of emitting the right sensation at the input\n",
    "        \"\"\"\n",
    "\n",
    "        self.n_input = n\n",
    "        self.p = p\n",
    "        self.n_action = 2\n",
    "\n",
    "        self._state = None\n",
    "\n",
    "    def reset(self):\n",
    "        \"\"\"\n",
    "        Resets state and generates new observations\n",
    "\n",
    "        Returns:\n",
    "            observation\n",
    "        \"\"\"\n",
    "\n",
    "        # generate state\n",
    "        self._state = np.random.choice(2)\n",
    "\n",
    "        return self.observe()\n",
    "\n",
    "    def step(self, action):\n",
    "        \"\"\"\n",
    "        Executes action, updates state and returns an observation, reward, done (episodic tasks) and optional information\n",
    "\n",
    "        :param action:\n",
    "        :return: observation, reward, done, info\n",
    "        \"\"\"\n",
    "\n",
    "        # return 1 for correct decision and -1 for incorrect decision\n",
    "        reward = (2 * (action == self._state) - 1)\n",
    "\n",
    "        # generate state\n",
    "        self._state = np.random.choice(2)\n",
    "\n",
    "        # we are always done after each decision\n",
    "        done = True\n",
    "\n",
    "        return self.observe(), reward, done, None\n",
    "\n",
    "    def observe(self):\n",
    "        \"\"\"\n",
    "        Helper function which generates an observation based on a state\n",
    "\n",
    "        :return: observation\n",
    "        \"\"\"\n",
    "\n",
    "        # generate associated observations\n",
    "        P = [self.p, 1 - self.p] if self._state == 0 else [1 - self.p, self.p]\n",
    "\n",
    "        return np.random.choice(2, self.n_input, True, P).astype('float32').reshape([1, self.n_input])[0]\n",
    "\n",
    "    def render(self):\n",
    "        \"\"\"\n",
    "        Takes care of rendering\n",
    "\n",
    "        :return:\n",
    "        \"\"\"\n",
    "\n",
    "        pass#print self._state\n",
    "\n",
    "    def close(self):\n",
    "        \"\"\"\n",
    "        Closes the rendering\n",
    "\n",
    "        :return:\n",
    "        \"\"\"\n",
    "        pass\n",
    "\n",
    "    def asint(self,obs):\n",
    "        \"\"\"\n",
    "        Represent input observations as an integer number\n",
    "        :param obs:\n",
    "        :return:\n",
    "        \"\"\"\n",
    "        return int(sum(2**i*b for i, b in enumerate(obs)))\n",
    "\n",
    "    def asbinary(self, i, b_len):\n",
    "        \"\"\"\n",
    "        Represent integer as binary array\n",
    "        :param i: integer\n",
    "        :param b_len: length of binary array\n",
    "        :return:\n",
    "        \"\"\"\n",
    "\n",
    "        # get binary representation from integer\n",
    "        _b = [int(x) for x in list('{0:0b}'.format(i))]\n",
    "        _b = [0 for i in range(b_len - len(_b))] + _b\n",
    "\n",
    "        return _b\n"
   ]
  },
  {
   "cell_type": "markdown",
   "metadata": {},
   "source": [
    "### Defining own functions"
   ]
  },
  {
   "cell_type": "code",
   "execution_count": 22,
   "metadata": {
    "collapsed": true
   },
   "outputs": [],
   "source": [
    "def apply():\n",
    "    # Number of iterations\n",
    "    n_iter = 1000\n",
    "    # environment specs\n",
    "    env = EvidenceEnv(n=2, p=0.95)\n",
    "    # define agent\n",
    "    agent = RandomAgent(env)\n",
    "    # reset environment and agent\n",
    "    obs = env.reset()\n",
    "    reward = None\n",
    "    done = False\n",
    "    R = []\n",
    "\n",
    "    for step in range(n_iter):\n",
    "        env.render()\n",
    "        action = agent.act(obs)\n",
    "        _obs, reward, done, _ = env.step(action)\n",
    "        # no training involved for random agent\n",
    "        agent.train(action, obs, reward, _obs)\n",
    "        obs = _obs\n",
    "        R.append(reward)\n",
    "    return R, agent\n",
    "\n",
    "def plot_cum(R, title, color='red'):\n",
    "    cumR = np.zeros(len(R))\n",
    "    for i in range(len(R)):\n",
    "        cumR[i] = np.sum(R[0: i + 1])\n",
    "\n",
    "    plt.figure()\n",
    "    plt.plot(cumR, color=color);\n",
    "    plt.xlabel('Epoch');\n",
    "    plt.ylabel('Cumulative reward');\n",
    "    plt.title(title);\n",
    "    Rsum = np.sum(R)\n",
    "    text = 'Final reward: ' + str(Rsum)\n",
    "    Rmax = np.max(cumR)\n",
    "\n",
    "    plt.text(400, Rmax, text, style='italic',\n",
    "             bbox={'facecolor': 'red', 'alpha': 0.5, 'pad': 3});"
   ]
  },
  {
   "cell_type": "markdown",
   "metadata": {},
   "source": [
    "### Part 1 Random agent (demo)"
   ]
  },
  {
   "cell_type": "code",
   "execution_count": 33,
   "metadata": {
    "collapsed": false
   },
   "outputs": [
    {
     "data": {
      "image/png": "[encoded data removed]",
      "text/plain": [
       "<matplotlib.figure.Figure at 0x1155c56d0>"
      ]
     },
     "metadata": {},
     "output_type": "display_data"
    }
   ],
   "source": [
    "class RandomAgent(object):\n",
    "\n",
    "    def __init__(self, env):\n",
    "        \"\"\"\n",
    "        Args:\n",
    "        env: an environment\n",
    "        \"\"\"\n",
    "        self.env = env\n",
    "\n",
    "\n",
    "    def act(self, onbservation):\n",
    "        \"\"\"\n",
    "        Act based on observation and train agent on cumulated reward (return)\n",
    "        :param observation: new observation\n",
    "        :param reward: reward gained from previous action; None indicates no reward because of initial state\n",
    "        :return: action (Variable)\n",
    "        \"\"\"\n",
    "        return np.random.choice(self.env.n_action)\n",
    "\n",
    "\n",
    "    def train(self, a, old_obs, new, new_obs):\n",
    "        \"\"\"\n",
    "        :param a: action\n",
    "        :param old_obs: old observation\n",
    "        :param r: reward\n",
    "        :param new_obs: new observation\n",
    "        :return:\n",
    "        \"\"\"\n",
    "        pass\n",
    "R,agent = apply()\n",
    "plot_cum(R, 'Part 1: cumulative reward, unaltered agent')\n",
    "plt.show()"
   ]
  },
  {
   "cell_type": "markdown",
   "metadata": {},
   "source": [
    "### Part 2 Tabular Q agent"
   ]
  },
  {
   "cell_type": "code",
   "execution_count": 23,
   "metadata": {
    "collapsed": false
   },
   "outputs": [
    {
     "data": {
      "image/png": "[encoded data removed]",
      "text/plain": [
       "<matplotlib.figure.Figure at 0x115523910>"
      ]
     },
     "metadata": {},
     "output_type": "display_data"
    },
    {
     "data": {
      "image/png": "[encoded data removed]",
      "text/plain": [
       "<matplotlib.figure.Figure at 0x115523050>"
      ]
     },
     "metadata": {},
     "output_type": "display_data"
    }
   ],
   "source": [
    "def doQlearning(env=EvidenceEnv(n=2, p=0.95),QI= np.random.rand(4, 2), n_iter=1000):\n",
    "    class QAgent(object):\n",
    "        def __init__(self, env, QI):\n",
    "            \"\"\"\n",
    "            Args:\n",
    "            env: an environment\n",
    "            \"\"\"\n",
    "            self.env = env\n",
    "            self.Q_val = QI + 0\n",
    "            self.QI = QI\n",
    "\n",
    "        def act(self, observation):\n",
    "            \"\"\"\n",
    "            Act based on observation and train agent on cumulated reward (return)\n",
    "            :param observation: new observation\n",
    "            :param reward: reward gained from previous action; None indicates no reward because of initial state :return: action (Variable)\n",
    "            \"\"\"\n",
    "            state_ = env.asint(observation)\n",
    "            action = self.Q_val[state_, :].argmax()\n",
    "\n",
    "            return action\n",
    "\n",
    "        def train(self, old_action, old_obs, r, new_obs):\n",
    "            \"\"\"\n",
    "            :param a: action\n",
    "            :param old_obs: old observation :param r: reward\n",
    "            :param new_obs: new observation :return:\n",
    "\n",
    "\n",
    "            \"\"\"\n",
    "            alpha_ = 0.01\n",
    "            gamma_ = 0.9\n",
    "            old_state = env.asint(old_obs)\n",
    "            new_state = env.asint(new_obs)\n",
    "\n",
    "            Q_val = self.Q_val\n",
    "            new_action = self.act(new_obs)\n",
    "\n",
    "            loss_ = gamma_ * Q_val[new_state][new_action] - Q_val[old_state][old_action]\n",
    "\n",
    "            Q_val[old_state][old_action] = Q_val[old_state][old_action] + alpha_ * (r + loss_)\n",
    "\n",
    "            pass\n",
    "\n",
    "    agent = QAgent(env, QI)\n",
    "    R = []\n",
    "    obs = env.reset()\n",
    "    for step in range(n_iter):\n",
    "        env.render()\n",
    "        action = agent.act(obs)\n",
    "        _obs, reward, done, _ = env.step(action)\n",
    "        # no training involved for random agent\n",
    "        agent.train(action, obs, reward, _obs)\n",
    "        obs = _obs\n",
    "        R.append(reward)\n",
    "\n",
    "    return R,agent.Q_val,agent.QI\n",
    "\n",
    "R,Q_val,QI=doQlearning()\n",
    "plot_cum(R, 'Part 2: TabularQagent')\n",
    "\n",
    "plt.figure()\n",
    "plt.subplot(1,2,2)\n",
    "plt.imshow(Q_val,cmap='gist_yarg')\n",
    "plt.colorbar()\n",
    "plt.title('trained Q-Matrix')\n",
    "plt.xticks([0,1])\n",
    "plt.yticks(range(4),['','','',''])\n",
    "plt.xlabel('possible actions')\n",
    "plt.subplot(1,2,1)\n",
    "plt.imshow(QI,cmap='gist_yarg')\n",
    "plt.colorbar()\n",
    "plt.title('initial Q-Matrix')\n",
    "plt.xticks([0,1])\n",
    "plt.yticks(range(4),['0,0','1,0','0,1','1,1'])\n",
    "plt.ylabel('observations')\n",
    "plt.xlabel('possible actions')\n",
    "plt.suptitle('Tabular Q agent')\n",
    "plt.show()"
   ]
  },
  {
   "cell_type": "markdown",
   "metadata": {},
   "source": [
    "### Part 3 Neural Q agent"
   ]
  },
  {
   "cell_type": "code",
   "execution_count": 32,
   "metadata": {
    "collapsed": false
   },
   "outputs": [
    {
     "data": {
      "image/png": "[encoded data removed]",
      "text/plain": [
       "<matplotlib.figure.Figure at 0x111dbce50>"
      ]
     },
     "metadata": {},
     "output_type": "display_data"
    },
    {
     "data": {
      "image/png": "[encoded data removed]",
      "text/plain": [
       "<matplotlib.figure.Figure at 0x111dbca90>"
      ]
     },
     "metadata": {},
     "output_type": "display_data"
    }
   ],
   "source": [
    "class MyChain(chainer.Chain):\n",
    "    def __init__(self):\n",
    "        super(MyChain, self).__init__()\n",
    "        with self.init_scope():\n",
    "            self.l1 = L.Linear(None, 4)\n",
    "            self.l2 = L.Linear(4, 2)\n",
    "\n",
    "    def __call__(self, x):\n",
    "        h = self.l1(x)\n",
    "        return self.l2(h)\n",
    "\n",
    "class RandomAgent(object):\n",
    "\n",
    "    def __init__(self, env):\n",
    "        \"\"\"\n",
    "        Args:\n",
    "        env: an environment\n",
    "        \"\"\"\n",
    "        self.env = env\n",
    "        self.model = MyChain()\n",
    "        self.optimizer = optimizers.SGD(lr=10**-4)  # Using Stochastic Gradient Descent\n",
    "        self.optimizer.setup(self.model)\n",
    "        self.loss = None\n",
    "\n",
    "        statespace = [[0, 0], [1, 0], [0, 1], [1, 1]]\n",
    "\n",
    "        self.model2 = MyChain()\n",
    "        self.optimizer2 = optimizers.SGD(lr=10 ** -4)  # Using Stochastic Gradient Descent\n",
    "        self.optimizer2.setup(self.model2)\n",
    "        self.QI = 0 + self.model2(chainer.Variable(np.atleast_2d(np.asarray(statespace, dtype='float32'))))._data[0]\n",
    "\n",
    "\n",
    "\n",
    "\n",
    "\n",
    "    def act(self, observation):\n",
    "        \"\"\"\n",
    "        Act based on observation and train agent on cumulated reward (return)\n",
    "        :param observation: new observation\n",
    "        :param reward: reward gained from previous action; None indicates no reward because of initial state\n",
    "        :return: action (Variable)\n",
    "        \"\"\"\n",
    "\n",
    "        # Make two predictions, one for both actions!\n",
    "        # input_0 = np.atleast_2d(np.append(observation, 0).astype(np.float32))\n",
    "        # predict_0 = self.model(chainer.Variable(input_0))\n",
    "        #\n",
    "        # input_1 = np.atleast_2d(np.append(observation, 1).astype(np.float32))\n",
    "        # predict_1 = self.model(chainer.Variable(input_1))\n",
    "        #\n",
    "        # # Choose prediction with highest Qvalue\n",
    "        # Qvalues = predict_0.data[0][0], predict_1.data[0][0]\n",
    "\n",
    "        Qvalues = self.model(chainer.Variable(np.atleast_2d(observation)))\n",
    "        if np.random.rand() < 0.01:\n",
    "            choice = int(np.random.rand() < 0.5)\n",
    "        else:\n",
    "            choice = np.argmax(Qvalues._data[0])\n",
    "\n",
    "        #print(\"Predicted value \" + str(Qvalues)) # For debugging\n",
    "        #print(\"Choice \" + str(choice))\n",
    "        return choice\n",
    "\n",
    "\n",
    "    def train(self, a, old_obs, reward, new_obs):\n",
    "        \"\"\"\n",
    "        :param a: action\n",
    "        :param old_obs: old observation\n",
    "        :param r: reward\n",
    "        :param new_obs: new observation\n",
    "        :return:\n",
    "        \"\"\"\n",
    "\n",
    "        #input = np.atleast_2d(np.append(old_obs, a).astype(np.float32))\n",
    "        input = np.atleast_2d(old_obs)\n",
    "        target=np.zeros((2,1))\n",
    "        self.model.cleargrads()\n",
    "        target[a] = reward\n",
    "        target[np.abs(a-1)]  = -reward\n",
    "        predict = self.model(chainer.Variable(input))\n",
    "        target = chainer.Variable(np.atleast_2d(target))\n",
    "        self.loss = F.sum(chainer.Variable(predict.data[0] - target.data) ** 2)\n",
    "        self.loss.backward()\n",
    "        self.optimizer.update()\n",
    "\n",
    "        #pass\n",
    "CSR=0\n",
    "while CSR<300: # If neuralQagent stucks in local minima, do again\n",
    "    R, agent = apply()\n",
    "    CSR=np.sum(R)\n",
    "\n",
    "\n",
    "statespace=[[0,0],[1,0],[0,1],[1,1]]\n",
    "\n",
    "Q_val=agent.model(chainer.Variable(np.atleast_2d(np.asarray(statespace,dtype='float32'))))._data[0]\n",
    "plot_cum(R, 'Part 3: cumulative reward NeuralQAgent')\n",
    "plt.figure()\n",
    "plt.subplot(1,2,2)\n",
    "plt.imshow(Q_val,cmap='gist_yarg')\n",
    "plt.colorbar()\n",
    "plt.title('trained Q-Matrix')\n",
    "plt.xticks([0,1])\n",
    "plt.yticks(range(4),['','','',''])\n",
    "plt.xlabel('possible actions')\n",
    "plt.subplot(1,2,1)\n",
    "plt.imshow(agent.QI,cmap='gist_yarg')\n",
    "plt.colorbar()\n",
    "plt.title('untrained Q-Matrix')\n",
    "plt.xticks([0,1])\n",
    "plt.yticks(range(4),['0,0','1,0','0,1','1,1'])\n",
    "plt.ylabel('observations')\n",
    "plt.xlabel('possible actions')\n",
    "plt.suptitle('Neural Q agent')\n",
    "plt.show()"
   ]
  },
  {
   "cell_type": "markdown",
   "metadata": {
    "collapsed": true
   },
   "source": [
    "### Part 3 answers\n",
    "different methods of improvements employing past states:\n",
    "- (1) using a transition matrix\n",
    "- (2) using an LSTM\n",
    "- (3) temporal difference learning (Sutton & Barto, 1990)\n",
    "\n",
    "different methods of modelling continuous rather than discrete actions:\n",
    "- (1) why would you want this, given a binary state space?\n",
    "- (2) if the state space would be continous, one could model how close the action and state are mapping (e.g. MSE): after hitting a certain threshold the reward could be given\n",
    "- (3) the reward could be modeled as a Gaussian. The closer to the state the more reward is given."
   ]
  },
  {
   "cell_type": "markdown",
   "metadata": {},
   "source": [
    "### Bonus - *Yippee ki-yay* - Tabular Q- learning using a Markov chain approach"
   ]
  },
  {
   "cell_type": "code",
   "execution_count": 38,
   "metadata": {
    "collapsed": false
   },
   "outputs": [
    {
     "name": "stderr",
     "output_type": "stream",
     "text": [
      "/Users/Tommy/anaconda/lib/python2.7/site-packages/ipykernel/__main__.py:49: RuntimeWarning: invalid value encountered in divide\n"
     ]
    },
    {
     "data": {
      "image/png": "[encoded data removed]",
      "text/plain": [
       "<matplotlib.figure.Figure at 0x111e731d0>"
      ]
     },
     "metadata": {},
     "output_type": "display_data"
    }
   ],
   "source": [
    "class RandomAgent(object):\n",
    "\n",
    "    def __init__(self, env):\n",
    "        \"\"\"\n",
    "        Args:\n",
    "        env: an environment\n",
    "        \"\"\"\n",
    "        self.env = env\n",
    "        self.Re = np.zeros([4,2]) # 4  Possible states obs (binary), 2 possible actions (0 and 1)\n",
    "        self.Q = np.zeros([4,4]) # state x state; for prediction of state to next state; we know it's random tho\n",
    "        self.rawQ = np.zeros([4,4]) # Matrix for visited states and successors\n",
    "        self.learn_rate = 0.5  # Learning rate for the \"Bellman equation\"\n",
    "\n",
    "    def act(self, observation):\n",
    "        \"\"\"\n",
    "        Act based on observation and train agent on cumulated reward (return)\n",
    "        :param observation: new observation\n",
    "        :param reward: reward gained from previous action; None indicates no reward because of initial state\n",
    "        :return: action (Variable)\n",
    "        \"\"\"\n",
    "        #np.random.choice(self.env.n_action)\n",
    "\n",
    "        state = self.env.asint(observation)\n",
    "        reward_matrix = self.Re + 0 # 0 so the self.Re matrix doesn't become NaN/Inf because it becomes reward_matrix\n",
    "\n",
    "        for i in range(1, 16): # Looking 15 steps into the future\n",
    "            reward_matrix += (self.learn_rate**i) * np.dot(self.Q, reward_matrix) # Basic Markov chain\n",
    "\n",
    "        choice = np.argmax(reward_matrix[state]) # Given current state, choose highest reward action\n",
    "        return choice\n",
    "\n",
    "\n",
    "    def train(self, a, old_obs, r, new_obs):\n",
    "        \"\"\"\n",
    "        :param a: action\n",
    "        :param old_obs: old observation\n",
    "        :param r: reward\n",
    "        :param new_obs: new observation\n",
    "        :return:\n",
    "        \"\"\"\n",
    "        state = self.env.asint(old_obs)\n",
    "        self.Re[state][a] += r # Reward per choice\n",
    "\n",
    "        new_state = self.env.asint(new_obs)\n",
    "        self.rawQ[state][new_state] += 1 # Visited states and their successor\n",
    "\n",
    "        Q = self.rawQ + 0\n",
    "        Qt = np.sum(Q, axis=1)\n",
    "        self.Q = (Q.T/Qt).T # Make Q a probability transition matrix of going from state to state\n",
    "        self.Q[np.isnan(self.Q)] = 0\n",
    "\n",
    "R ,agent= apply()\n",
    "plot_cum(R, 'Bonus Part: cumulative reward, with transition matrix')\n",
    "plt.show()"
   ]
  },
  {
   "cell_type": "code",
   "execution_count": null,
   "metadata": {
    "collapsed": true
   },
   "outputs": [],
   "source": []
  }
 ],
 "metadata": {
  "kernelspec": {
   "display_name": "Python [Root]",
   "language": "python",
   "name": "Python [Root]"
  },
  "language_info": {
   "codemirror_mode": {
    "name": "ipython",
    "version": 2
   },
   "file_extension": ".py",
   "mimetype": "text/x-python",
   "name": "python",
   "nbconvert_exporter": "python",
   "pygments_lexer": "ipython2",
   "version": "2.7.13"
  }
 },
 "nbformat": 4,
 "nbformat_minor": 2
}
